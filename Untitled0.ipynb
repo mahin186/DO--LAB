{
  "nbformat": 4,
  "nbformat_minor": 0,
  "metadata": {
    "colab": {
      "provenance": [],
      "mount_file_id": "1XAy0DJN2LPVMijf7KYBoSeVUGCkNj_Qd",
      "authorship_tag": "ABX9TyPV4cQTVy90Wq3Y19BR2m7g",
      "include_colab_link": true
    },
    "kernelspec": {
      "name": "data operations",
      "display_name": "data operations"
    },
    "language_info": {
      "name": "python"
    }
  },
  "cells": [
    {
      "cell_type": "markdown",
      "metadata": {
        "id": "view-in-github",
        "colab_type": "text"
      },
      "source": [
        "<a href=\"https://colab.research.google.com/github/deepsikha777/do-lab/blob/main/Untitled0.ipynb\" target=\"_parent\"><img src=\"https://colab.research.google.com/assets/colab-badge.svg\" alt=\"Open In Colab\"/></a>"
      ]
    },
    {
      "cell_type": "code",
      "source": [ 
"#update code\n",
        "# Import necessary libraries\n",
        "import pandas as pd"
      ],
      "metadata": {
        "id": "7NnYzLqTrbOd"
      },
      "execution_count": null,
      "outputs": []
    },
    {
      "cell_type": "code",
      "source": [
"data operations",
        "drive.mount('/content/drive')"
      ],
      "metadata": {
        "colab": {
          "base_uri": "https://localhost:8080/"
        },
        "id": "ImLmraQGso9E",
        "outputId": "96341502-ed27-41c8-ea1b-22cac0612b23"
      },
      "execution_count": null,
      "outputs": [
        {
          "output_type": "stream",
          "name": "stdout",
          "text": [
            "Drive already mounted at /content/drive; to attempt to forcibly remount, call drive.mount(\"/content/drive\", force_remount=True).\n"
          ]
        }
      ]
    },
    {
      "cell_type": "code",
      "source": [],
      "metadata": {
        "id": "0UywqArCvcPB"
      },
      "execution_count": null,
      "outputs": []
    }
  ]
}
